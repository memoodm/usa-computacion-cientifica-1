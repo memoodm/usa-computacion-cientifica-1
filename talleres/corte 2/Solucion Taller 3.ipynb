{
 "cells": [
  {
   "cell_type": "markdown",
   "id": "c33843fe-1a73-4ee9-87bd-6409625fe928",
   "metadata": {},
   "source": [
    "# Clases"
   ]
  },
  {
   "cell_type": "code",
   "execution_count": 2,
   "id": "35c07aba-0c2b-458c-aeb6-c454161fa10b",
   "metadata": {},
   "outputs": [],
   "source": [
    "class Producto:\n",
    "    \n",
    "    def __init__(self,nombre,precio,categoria):\n",
    "        self.nombre = nombre\n",
    "        self.precio = precio\n",
    "        self.categoria = categoria\n",
    "        \n",
    "    def __str__(self):\n",
    "        return f\"[{self.categoria}] {self.nombre} ${self.precio}\"\n",
    "        \n",
    "    def __repr__(self):\n",
    "        return self.__str__()\n",
    "        \n",
    "    def __eq__(self, other):\n",
    "        if isinstance(other, Producto):\n",
    "            return (self.nombre == other.nombre and\n",
    "                    self.categoria == other.categoria)\n",
    "        return False\n",
    "        \n",
    "    def __lt__(self,other):\n",
    "        return self.precio < other.precio\n",
    "\n",
    "    def __gt__(self,other):\n",
    "        return self.precio > other.precio"
   ]
  },
  {
   "cell_type": "code",
   "execution_count": 3,
   "id": "6d98d936-f3a3-4592-b253-d03201616a53",
   "metadata": {},
   "outputs": [],
   "source": [
    "class Tienda:\n",
    "\n",
    "    def __init__(self,nombre,productos=[]):\n",
    "        self.nombre = nombre\n",
    "        self.productos = productos\n",
    "\n",
    "    def __str__(self):\n",
    "        return f\"[{self.nombre}] Productos: {self.productos}\"\n",
    "\n",
    "    def agregar_producto(self,producto):\n",
    "        self.productos.append(producto)\n",
    "        self.ordenar_por_precio()\n",
    "\n",
    "    def buscar_producto(self,nombre_producto):\n",
    "        for producto in self.productos:\n",
    "            if producto.nombre == nombre_producto:\n",
    "                return producto\n",
    "        return None\n",
    "\n",
    "    def producto_mas_caro(self):\n",
    "        self.ordenar_por_precio()\n",
    "        return self.productos[-1]\n",
    "        \n",
    "    def producto_mas_barato(self):\n",
    "        self.ordenar_por_precio()\n",
    "        return self.productos[0]\n",
    "\n",
    "    def obtener_productos_categoria(self,categoria):\n",
    "        productos_por_categoria = []\n",
    "        for producto in self.productos:\n",
    "            if producto.categoria == categoria:\n",
    "                productos_por_categoria.append( producto )\n",
    "        return productos_por_categoria\n",
    "\n",
    "    def ordenar_por_precio(self,descendente=False):\n",
    "        self.productos.sort(reverse=descendente)"
   ]
  },
  {
   "cell_type": "markdown",
   "id": "2bb97505-922b-4227-8de5-184102c7b2c0",
   "metadata": {},
   "source": [
    "# Instancias"
   ]
  },
  {
   "cell_type": "code",
   "execution_count": 5,
   "id": "8ab74546-f577-4dc8-abef-739cb2c0343a",
   "metadata": {},
   "outputs": [],
   "source": [
    "productos = [\n",
    "    Producto(\"Manzana\", 500, \"Frutas\"),\n",
    "    Producto(\"Pan integral\", 1200, \"Panadería\"),\n",
    "    Producto(\"Leche descremada\", 1000, \"Lácteos\"),\n",
    "    Producto(\"Cereal de avena\", 2500, \"Desayuno\"),\n",
    "    Producto(\"Queso mozzarella\", 3800, \"Lácteos\"),\n",
    "    Producto(\"Jugo de naranja\", 1500, \"Bebidas\"),\n",
    "    Producto(\"Café molido\", 4200, \"Bebidas\"),\n",
    "    Producto(\"Arroz blanco\", 900, \"Granos\"),\n",
    "    Producto(\"Pasta corta\", 1100, \"Granos\"),\n",
    "    Producto(\"Atún en lata\", 2000, \"Enlatados\"),\n",
    "    Producto(\"Galletas integrales\", 1800, \"Snacks\"),\n",
    "    Producto(\"Yogur natural\", 1300, \"Lácteos\"),\n",
    "    Producto(\"Pollo entero\", 6000, \"Carnes\"),\n",
    "    Producto(\"Carne molida\", 5500, \"Carnes\"),\n",
    "    Producto(\"Zanahoria\", 400, \"Verduras\"),\n",
    "    Producto(\"Tomate\", 600, \"Verduras\"),\n",
    "    Producto(\"Cebolla\", 500, \"Verduras\"),\n",
    "    Producto(\"Aceite de girasol\", 3000, \"Aceites\"),\n",
    "    Producto(\"Harina de trigo\", 1000, \"Panadería\"),\n",
    "    Producto(\"Chocolate negro\", 2200, \"Dulces\"),\n",
    "]"
   ]
  },
  {
   "cell_type": "code",
   "execution_count": 6,
   "id": "b2eb2005-b5b4-409d-83c9-fe39953206b6",
   "metadata": {},
   "outputs": [],
   "source": [
    "tienda1 = Tienda(\"Tienda A\", [productos[0],productos[1],productos[2]] )\n",
    "tienda2 = Tienda(\"Tienda B\", [productos[5],productos[10],productos[15]] )\n",
    "tienda3 = Tienda(\"Tienda B\", productos )"
   ]
  },
  {
   "cell_type": "markdown",
   "id": "29179903-6433-4c3d-9887-5e6a563bcc67",
   "metadata": {},
   "source": [
    "# Pruebas"
   ]
  },
  {
   "cell_type": "markdown",
   "id": "cf16c687-eaca-4c62-8ca9-a28254f063a4",
   "metadata": {},
   "source": [
    "### tienda 1"
   ]
  },
  {
   "cell_type": "code",
   "execution_count": 9,
   "id": "63b21216-dd23-4a7a-a3a8-51fd4f263a0e",
   "metadata": {},
   "outputs": [
    {
     "name": "stdout",
     "output_type": "stream",
     "text": [
      "[Tienda A] Productos: [[Frutas] Manzana $500, [Panadería] Pan integral $1200, [Lácteos] Leche descremada $1000]\n"
     ]
    }
   ],
   "source": [
    "print(tienda1)"
   ]
  },
  {
   "cell_type": "code",
   "execution_count": 10,
   "id": "3b239f87-0845-4f44-9724-aa7156e3f501",
   "metadata": {},
   "outputs": [
    {
     "name": "stdout",
     "output_type": "stream",
     "text": [
      "[Tienda A] Productos: [[Frutas] Manzana $500, [Lácteos] Leche descremada $1000, [Bebidas] Coca Cola $1100, [Panadería] Pan integral $1200]\n"
     ]
    }
   ],
   "source": [
    "nuevo_producto = Producto(\"Coca Cola\", 1100, \"Bebidas\")\n",
    "tienda1.agregar_producto(nuevo_producto)\n",
    "print(tienda1)"
   ]
  },
  {
   "cell_type": "code",
   "execution_count": 11,
   "id": "cb6d16ea-517e-495c-a64c-e04255bfc8b3",
   "metadata": {},
   "outputs": [
    {
     "data": {
      "text/plain": [
       "[Lácteos] Leche descremada $1000"
      ]
     },
     "execution_count": 11,
     "metadata": {},
     "output_type": "execute_result"
    }
   ],
   "source": [
    "tienda1.buscar_producto(\"Leche descremada\")"
   ]
  },
  {
   "cell_type": "code",
   "execution_count": 12,
   "id": "d7943409-e79f-41a7-bab3-be93f1bb7b9e",
   "metadata": {},
   "outputs": [
    {
     "data": {
      "text/plain": [
       "[Panadería] Pan integral $1200"
      ]
     },
     "execution_count": 12,
     "metadata": {},
     "output_type": "execute_result"
    }
   ],
   "source": [
    "tienda1.producto_mas_caro()"
   ]
  },
  {
   "cell_type": "code",
   "execution_count": 13,
   "id": "f9f03b4a-a4ee-41e7-a228-9a62f1ea6c09",
   "metadata": {},
   "outputs": [
    {
     "data": {
      "text/plain": [
       "[Frutas] Manzana $500"
      ]
     },
     "execution_count": 13,
     "metadata": {},
     "output_type": "execute_result"
    }
   ],
   "source": [
    "tienda1.producto_mas_barato()"
   ]
  },
  {
   "cell_type": "markdown",
   "id": "ffd82bd3-2d34-44a4-b877-b7134591a849",
   "metadata": {},
   "source": [
    "### tienda 3"
   ]
  },
  {
   "cell_type": "code",
   "execution_count": 15,
   "id": "5342e6d7-4de3-4e97-bd9f-49666035f84b",
   "metadata": {},
   "outputs": [
    {
     "data": {
      "text/plain": [
       "[[Verduras] Zanahoria $400, [Verduras] Tomate $600, [Verduras] Cebolla $500]"
      ]
     },
     "execution_count": 15,
     "metadata": {},
     "output_type": "execute_result"
    }
   ],
   "source": [
    "tienda3.obtener_productos_categoria(\"Verduras\")"
   ]
  },
  {
   "cell_type": "code",
   "execution_count": 16,
   "id": "133783a9-dea9-40ca-a6be-ebcd67596ba8",
   "metadata": {},
   "outputs": [
    {
     "data": {
      "text/plain": [
       "[[Carnes] Pollo entero $6000, [Carnes] Carne molida $5500]"
      ]
     },
     "execution_count": 16,
     "metadata": {},
     "output_type": "execute_result"
    }
   ],
   "source": [
    "tienda3.obtener_productos_categoria(\"Carnes\")"
   ]
  },
  {
   "cell_type": "code",
   "execution_count": 17,
   "id": "aae9d5cc-9b30-4b48-a853-20d23c2fd66c",
   "metadata": {},
   "outputs": [
    {
     "data": {
      "text/plain": [
       "[[Verduras] Zanahoria $400,\n",
       " [Frutas] Manzana $500,\n",
       " [Verduras] Cebolla $500,\n",
       " [Verduras] Tomate $600,\n",
       " [Granos] Arroz blanco $900,\n",
       " [Lácteos] Leche descremada $1000,\n",
       " [Panadería] Harina de trigo $1000,\n",
       " [Granos] Pasta corta $1100,\n",
       " [Panadería] Pan integral $1200,\n",
       " [Lácteos] Yogur natural $1300,\n",
       " [Bebidas] Jugo de naranja $1500,\n",
       " [Snacks] Galletas integrales $1800,\n",
       " [Enlatados] Atún en lata $2000,\n",
       " [Dulces] Chocolate negro $2200,\n",
       " [Desayuno] Cereal de avena $2500,\n",
       " [Aceites] Aceite de girasol $3000,\n",
       " [Lácteos] Queso mozzarella $3800,\n",
       " [Bebidas] Café molido $4200,\n",
       " [Carnes] Carne molida $5500,\n",
       " [Carnes] Pollo entero $6000]"
      ]
     },
     "execution_count": 17,
     "metadata": {},
     "output_type": "execute_result"
    }
   ],
   "source": [
    "tienda3.ordenar_por_precio(descendente=False)\n",
    "tienda3.productos"
   ]
  },
  {
   "cell_type": "code",
   "execution_count": 18,
   "id": "7ed51e24-fbf0-4e31-84f5-eb005b76cdef",
   "metadata": {},
   "outputs": [
    {
     "data": {
      "text/plain": [
       "[[Carnes] Pollo entero $6000,\n",
       " [Carnes] Carne molida $5500,\n",
       " [Bebidas] Café molido $4200,\n",
       " [Lácteos] Queso mozzarella $3800,\n",
       " [Aceites] Aceite de girasol $3000,\n",
       " [Desayuno] Cereal de avena $2500,\n",
       " [Dulces] Chocolate negro $2200,\n",
       " [Enlatados] Atún en lata $2000,\n",
       " [Snacks] Galletas integrales $1800,\n",
       " [Bebidas] Jugo de naranja $1500,\n",
       " [Lácteos] Yogur natural $1300,\n",
       " [Panadería] Pan integral $1200,\n",
       " [Granos] Pasta corta $1100,\n",
       " [Lácteos] Leche descremada $1000,\n",
       " [Panadería] Harina de trigo $1000,\n",
       " [Granos] Arroz blanco $900,\n",
       " [Verduras] Tomate $600,\n",
       " [Frutas] Manzana $500,\n",
       " [Verduras] Cebolla $500,\n",
       " [Verduras] Zanahoria $400]"
      ]
     },
     "execution_count": 18,
     "metadata": {},
     "output_type": "execute_result"
    }
   ],
   "source": [
    "tienda3.ordenar_por_precio(descendente=True)\n",
    "tienda3.productos"
   ]
  },
  {
   "cell_type": "code",
   "execution_count": 19,
   "id": "bdf927f6-bedc-4384-8935-9ff34257107d",
   "metadata": {},
   "outputs": [
    {
     "data": {
      "text/plain": [
       "[Carnes] Pollo entero $6000"
      ]
     },
     "execution_count": 19,
     "metadata": {},
     "output_type": "execute_result"
    }
   ],
   "source": [
    "tienda3.producto_mas_caro()"
   ]
  },
  {
   "cell_type": "code",
   "execution_count": 35,
   "id": "194424c9-f628-465f-81a7-34b316d486b1",
   "metadata": {},
   "outputs": [
    {
     "data": {
      "text/plain": [
       "[Verduras] Zanahoria $400"
      ]
     },
     "execution_count": 35,
     "metadata": {},
     "output_type": "execute_result"
    }
   ],
   "source": [
    "tienda3.producto_mas_barato()"
   ]
  },
  {
   "cell_type": "code",
   "execution_count": null,
   "id": "ecc5e4fa-c7ce-4564-8cf2-abf0c1f74bd6",
   "metadata": {},
   "outputs": [],
   "source": []
  }
 ],
 "metadata": {
  "kernelspec": {
   "display_name": "Python 3 (ipykernel)",
   "language": "python",
   "name": "python3"
  },
  "language_info": {
   "codemirror_mode": {
    "name": "ipython",
    "version": 3
   },
   "file_extension": ".py",
   "mimetype": "text/x-python",
   "name": "python",
   "nbconvert_exporter": "python",
   "pygments_lexer": "ipython3",
   "version": "3.12.7"
  }
 },
 "nbformat": 4,
 "nbformat_minor": 5
}
